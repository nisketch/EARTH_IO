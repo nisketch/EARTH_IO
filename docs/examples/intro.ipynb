{
 "cells": [
  {
   "cell_type": "code",
<<<<<<< HEAD
   "execution_count": 1,
   "metadata": {},
   "outputs": [
    {
     "name": "stdout",
     "output_type": "stream",
     "text": [
      "Hello World!\n"
     ]
    }
   ],
   "source": [
    "print('Hello World!')"
   ]
  },
  {
   "cell_type": "code",
   "execution_count": 11,
   "metadata": {},
   "outputs": [
    {
     "name": "stdout",
     "output_type": "stream",
     "text": [
      "['joe doe', 'michael alonzo', 'peter mark', 'jane sue']\n"
     ]
    }
   ],
   "source": [
    "# LISTS\n",
    "\n",
    "Names = [\"joe doe\", \"michael alonzo\", \"peter mark\", \"jane sue\"]\n",
    "\n",
    "print(Names)"
   ]
  },
  {
   "cell_type": "code",
   "execution_count": 6,
   "metadata": {},
   "outputs": [],
   "source": [
    "MACHINES = [\"suzuki\", \"grinder\", \"bmw\", \"audi\", \"toyota\"]\n"
   ]
  },
  {
   "cell_type": "code",
   "execution_count": 13,
   "metadata": {},
   "outputs": [
    {
     "name": "stdout",
     "output_type": "stream",
     "text": [
      "['suzuki']\n"
     ]
    }
   ],
   "source": [
    "cars = []\n",
    " \n",
    "cars.append(\"suzuki\")\n",
    "\n",
    "print(cars)"
=======
   "execution_count": null,
   "metadata": {},
   "outputs": [],
   "source": [
    "print('Hello World!')"
>>>>>>> 110a4f90554061670dda58ecef9c09f9522da3ee
   ]
  }
 ],
 "metadata": {
<<<<<<< HEAD
  "kernelspec": {
   "display_name": "Python 3",
   "language": "python",
   "name": "python3"
  },
  "language_info": {
   "codemirror_mode": {
    "name": "ipython",
    "version": 3
   },
   "file_extension": ".py",
   "mimetype": "text/x-python",
   "name": "python",
   "nbconvert_exporter": "python",
   "pygments_lexer": "ipython3",
   "version": "3.11.7"
=======
  "language_info": {
   "name": "python"
>>>>>>> 110a4f90554061670dda58ecef9c09f9522da3ee
  },
  "orig_nbformat": 4
 },
 "nbformat": 4,
 "nbformat_minor": 2
}
